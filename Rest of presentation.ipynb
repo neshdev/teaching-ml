{
 "cells": [
  {
   "cell_type": "markdown",
   "metadata": {
    "slideshow": {
     "slide_type": "slide"
    }
   },
   "source": [
    "# Neural Networks\n",
    "\n",
    "A neural network in the end of the days is a big bag of linear algebra. A discussion about these smaller components will enable to build a larger equation. \n",
    "\n",
    "1. Activation Functions (http://cs231n.github.io/neural-networks-1/)\n",
    "    1. Sigmoid\n",
    "    1. tanh\n",
    "    1. Relu\n",
    "    1. leaky Relu (Not discussed here)\n",
    "    1. softplus (Not discussed here)\n",
    "    1. maxout (Not discussed here)\n",
    "    1. ELU (Not discussed here)\n",
    "    \n",
    "1. Layers\n",
    "    1. Fully Connected\n",
    "    1. Batch Norm\n",
    "    1. Dropout\n",
    "    1. RNN\n",
    "    1. GRU\n",
    "    1. LSTM\n",
    "    \n",
    "1. Architecture\n",
    "    1. Deep Neural Networks\n",
    "    1. Feed Forward Networks\n",
    "    1. Auto Encoders\n",
    "    1. CNN\n",
    "    1. RNN/GNN\n",
    "    1. BiDirectional RNN\n",
    "    \n",
    "1. Loss Functions\n",
    "    1. Hinge Loss\n",
    "    1. Cross Entroy\n",
    "    1. Max Entropy Loss\n",
    "\n",
    "1. Hyper parameters\n"
   ]
  },
  {
   "cell_type": "markdown",
   "metadata": {
    "slideshow": {
     "slide_type": "subslide"
    }
   },
   "source": [
    "# Activation Functions\n",
    "\n",
    "All activation functions are element wise functions. This means that doing this operation on a vector/matrix will actually apply the operation at each element in the vector/matrix.\n",
    "\n",
    "## Sigmoid\n",
    "\n",
    "Given: \n",
    "$ x \\in \\mathbb R^n  $\n",
    "\n",
    "$ \\sigma(x) = \\sigma([x_1, x_2, ...]) = [\\sigma(x_1), \\sigma(x_2), ... , \\sigma(x_n)] $\n",
    "\n",
    "$ \\sigma(x) : \\mathbb R^n \\rightarrow \\mathbb (0,1)^n $\n",
    "\n",
    "$$ \\sigma(x) = \\frac{1}{1+e^{-x}} $$\n",
    "\n"
   ]
  },
  {
   "cell_type": "code",
   "execution_count": 4,
   "metadata": {
    "collapsed": true
   },
   "outputs": [],
   "source": [
    "import matplotlib.pyplot as plt\n",
    "import numpy as np\n",
    "%matplotlib inline"
   ]
  },
  {
   "cell_type": "code",
   "execution_count": 14,
   "metadata": {},
   "outputs": [
    {
     "data": {
      "text/plain": [
       "<matplotlib.text.Text at 0x2499591e908>"
      ]
     },
     "execution_count": 14,
     "metadata": {},
     "output_type": "execute_result"
    },
    {
     "data": {
      "image/png": "[encoded data removed]",
      "text/plain": [
       "<matplotlib.figure.Figure at 0x249958fc4e0>"
      ]
     },
     "metadata": {},
     "output_type": "display_data"
    }
   ],
   "source": [
    "x = np.arange(-10,10,.01)\n",
    "def sigmoid(x):\n",
    "    return 1. / (1. + np.exp(-x))\n",
    "\n",
    "plt.plot(x,sigmoid(x))\n",
    "plt.title(\"sigmoid\")"
   ]
  },
  {
   "cell_type": "markdown",
   "metadata": {
    "slideshow": {
     "slide_type": "subslide"
    }
   },
   "source": [
    "## tanh\n",
    "\n",
    "Given: \n",
    "$ x \\in \\mathbb R^n  $\n",
    "\n",
    "$ tanh(x) : \\mathbb R^n \\rightarrow \\mathbb (-1,1)^n $\n",
    "\n",
    "$$ tanh(x) = \\frac{e^x - e^{-x}}{e^x + e^{-x}} = 2\\sigma(2x)+1 $$\n",
    "\n",
    "\n"
   ]
  },
  {
   "cell_type": "code",
   "execution_count": 15,
   "metadata": {
    "slideshow": {
     "slide_type": "fragment"
    }
   },
   "outputs": [
    {
     "data": {
      "text/plain": [
       "<matplotlib.text.Text at 0x24995971898>"
      ]
     },
     "execution_count": 15,
     "metadata": {},
     "output_type": "execute_result"
    },
    {
     "data": {
      "image/png": "[encoded data removed]",
      "text/plain": [
       "<matplotlib.figure.Figure at 0x24995918400>"
      ]
     },
     "metadata": {},
     "output_type": "display_data"
    }
   ],
   "source": [
    "x = np.arange(-10,10,.01)\n",
    "def tanh(x):\n",
    "    return (2 * sigmoid(2*x) - 1)\n",
    "\n",
    "plt.plot(x,tanh(x))\n",
    "plt.title(\"tanh\")"
   ]
  },
  {
   "cell_type": "markdown",
   "metadata": {
    "slideshow": {
     "slide_type": "subslide"
    }
   },
   "source": [
    "# relu stands for Rectified linear unit\n",
    "\n",
    "Relu was a byproduct of softplus. This is by far the most effective activation function.\n",
    "\n",
    "Given: \n",
    "$ x \\in \\mathbb R^n  $\n",
    "\n",
    "$ relu(x) : \\mathbb R^n \\rightarrow \\mathbb [0,\\infty)^n $\n",
    "\n",
    "$$\n",
    "relu(x) = \\left\\{\n",
    "        \\begin{array}{ll}\n",
    "            x & x \\gt 0 \\\\\n",
    "            0 & otherwise\n",
    "        \\end{array}\n",
    "    \\right.\n",
    "$$\n",
    "\n",
    "$$ relu(x) = max(x,0) $$\n",
    "\n"
   ]
  },
  {
   "cell_type": "code",
   "execution_count": 17,
   "metadata": {
    "slideshow": {
     "slide_type": "fragment"
    }
   },
   "outputs": [
    {
     "data": {
      "text/plain": [
       "<matplotlib.text.Text at 0x24995a334a8>"
      ]
     },
     "execution_count": 17,
     "metadata": {},
     "output_type": "execute_result"
    },
    {
     "data": {
      "image/png": "[encoded data removed]",
      "text/plain": [
       "<matplotlib.figure.Figure at 0x24995a10080>"
      ]
     },
     "metadata": {},
     "output_type": "display_data"
    }
   ],
   "source": [
    "x = np.arange(-10,10,.01)\n",
    "def relu(x):\n",
    "    return np.maximum(x,0)\n",
    "\n",
    "plt.plot(x,relu(x))\n",
    "plt.title(\"relu\")"
   ]
  },
  {
   "cell_type": "code",
   "execution_count": null,
   "metadata": {
    "collapsed": true,
    "slideshow": {
     "slide_type": "slide"
    }
   },
   "outputs": [],
   "source": []
  },
  {
   "cell_type": "code",
   "execution_count": null,
   "metadata": {
    "collapsed": true
   },
   "outputs": [],
   "source": []
  },
  {
   "cell_type": "code",
   "execution_count": null,
   "metadata": {
    "collapsed": true
   },
   "outputs": [],
   "source": []
  },
  {
   "cell_type": "code",
   "execution_count": null,
   "metadata": {
    "collapsed": true
   },
   "outputs": [],
   "source": []
  },
  {
   "cell_type": "code",
   "execution_count": null,
   "metadata": {
    "collapsed": true
   },
   "outputs": [],
   "source": []
  },
  {
   "cell_type": "code",
   "execution_count": null,
   "metadata": {
    "collapsed": true
   },
   "outputs": [],
   "source": []
  },
  {
   "cell_type": "code",
   "execution_count": null,
   "metadata": {
    "collapsed": true
   },
   "outputs": [],
   "source": []
  },
  {
   "cell_type": "code",
   "execution_count": null,
   "metadata": {
    "collapsed": true
   },
   "outputs": [],
   "source": []
  },
  {
   "cell_type": "code",
   "execution_count": null,
   "metadata": {
    "collapsed": true
   },
   "outputs": [],
   "source": []
  },
  {
   "cell_type": "code",
   "execution_count": null,
   "metadata": {
    "collapsed": true
   },
   "outputs": [],
   "source": []
  },
  {
   "cell_type": "code",
   "execution_count": null,
   "metadata": {
    "collapsed": true
   },
   "outputs": [],
   "source": []
  }
 ],
 "metadata": {
  "anaconda-cloud": {},
  "celltoolbar": "Slideshow",
  "kernelspec": {
   "display_name": "Python [conda root]",
   "language": "python",
   "name": "conda-root-py"
  },
  "language_info": {
   "codemirror_mode": {
    "name": "ipython",
    "version": 3
   },
   "file_extension": ".py",
   "mimetype": "text/x-python",
   "name": "python",
   "nbconvert_exporter": "python",
   "pygments_lexer": "ipython3",
   "version": "3.5.2"
  }
 },
 "nbformat": 4,
 "nbformat_minor": 1
}
